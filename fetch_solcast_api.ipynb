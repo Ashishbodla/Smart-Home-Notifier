{
 "metadata": {
  "language_info": {
   "codemirror_mode": {
    "name": "ipython",
    "version": 3
   },
   "file_extension": ".py",
   "mimetype": "text/x-python",
   "name": "python",
   "nbconvert_exporter": "python",
   "pygments_lexer": "ipython3",
   "version": "3.8.5"
  },
  "orig_nbformat": 2,
  "kernelspec": {
   "name": "python3",
   "display_name": "Python 3.8.5 64-bit ('base': conda)"
  },
  "interpreter": {
   "hash": "e17ab7de6ad5b941c3e26db599003cfb1d7717d2aa44d1ece22b2d307495c290"
  }
 },
 "nbformat": 4,
 "nbformat_minor": 2,
 "cells": [
  {
   "cell_type": "code",
   "execution_count": 32,
   "metadata": {},
   "outputs": [],
   "source": [
    "import requests\n",
    "import datetime"
   ]
  },
  {
   "cell_type": "code",
   "execution_count": 14,
   "metadata": {},
   "outputs": [],
   "source": [
    "import configparser\n",
    "config = configparser.ConfigParser()\n",
    "if not config.has_section(\"APIKEY\"):\n",
    "    config.add_section(\"APIKEY\")\n",
    "    config.set(\"APIKEY\", \"key\", \"bmDCPHfGBni1xCX8uBxuGJmRhRLbLaVC\")\n",
    "\n",
    "with open(\"solcast_test.ini\", 'w') as configfile:\n",
    "    config.write(configfile)"
   ]
  },
  {
   "cell_type": "code",
   "execution_count": 15,
   "metadata": {},
   "outputs": [],
   "source": [
    "config = configparser.ConfigParser()\t\t\n",
    "config.read(\"solcast_test.ini\")\n",
    "apikey = config['APIKEY']"
   ]
  },
  {
   "cell_type": "code",
   "execution_count": 29,
   "metadata": {
    "tags": []
   },
   "outputs": [
    {
     "output_type": "stream",
     "name": "stdout",
     "text": [
      "<Response [200]>\n"
     ]
    }
   ],
   "source": [
    "import requests\n",
    "\n",
    "url = \"https://api.solcast.com.au/world_radiation/estimated_actuals??format=json\"\n",
    "\n",
    "\n",
    "querystring = {\"api_key\":\"bmDCPHfGBni1xCX8uBxuGJmRhRLbLaVC\",\"longitude\":\"-0.127758\",\"latitude\":\"51.507351\", \"hours\":\"168\"}\n",
    "\n",
    "headers = {'Content-Type': 'application/json'}\n",
    "\n",
    "response = requests.request(\"GET\", url, headers=headers, params=querystring)\n",
    "print(response)\n"
   ]
  },
  {
   "cell_type": "code",
   "execution_count": 33,
   "metadata": {},
   "outputs": [
    {
     "output_type": "stream",
     "name": "stdout",
     "text": [
      "forecasts: 0 degree\n"
     ]
    }
   ],
   "source": [
    "import requests\n",
    "url = 'https://api.solcast.com.au/world_radiation/forecasts?latitude=-33.865143&longitude=151.209900'\n",
    "querystring = {\"api_key\" : apikey['key']}\n",
    "res = requests.get(url, params=querystring, headers={'Content-Type': 'application/json'})\n",
    "data = res.json()\n",
    "forecast = data[\"forecasts\"][0][\"ghi\"]\n",
    "\n",
    "print('forecasts: {} degree'.format(forecast))"
   ]
  },
  {
   "cell_type": "code",
   "execution_count": 35,
   "metadata": {},
   "outputs": [
    {
     "output_type": "execute_result",
     "data": {
      "text/plain": [
       "{'ghi': 0,\n",
       " 'ghi90': 0,\n",
       " 'ghi10': 0,\n",
       " 'ebh': 0,\n",
       " 'dni': 0,\n",
       " 'dni10': 0,\n",
       " 'dni90': 0,\n",
       " 'dhi': 0,\n",
       " 'air_temp': 11,\n",
       " 'zenith': 136,\n",
       " 'azimuth': -93,\n",
       " 'cloud_opacity': 17,\n",
       " 'period_end': '2021-07-16T17:30:00.0000000Z',\n",
       " 'period': 'PT30M'}"
      ]
     },
     "metadata": {},
     "execution_count": 35
    }
   ],
   "source": [
    "data[\"forecasts\"][0]"
   ]
  },
  {
   "cell_type": "code",
   "execution_count": 16,
   "metadata": {},
   "outputs": [
    {
     "output_type": "execute_result",
     "data": {
      "text/plain": [
       "'bmDCPHfGBni1xCX8uBxuGJmRhRLbLaVC'"
      ]
     },
     "metadata": {},
     "execution_count": 16
    }
   ],
   "source": [
    "apikey['key']"
   ]
  },
  {
   "cell_type": "code",
   "execution_count": 37,
   "metadata": {},
   "outputs": [],
   "source": [
    "import solcast\n",
    "response = solcast.get_radiation_forecasts(-35, 149, apikey['key'])"
   ]
  },
  {
   "cell_type": "code",
   "execution_count": 39,
   "metadata": {},
   "outputs": [
    {
     "output_type": "execute_result",
     "data": {
      "text/plain": [
       "{'ghi': 0,\n",
       " 'ghi90': 0,\n",
       " 'ghi10': 0,\n",
       " 'ebh': 0,\n",
       " 'dni': 0,\n",
       " 'dni10': 0,\n",
       " 'dni90': 0,\n",
       " 'dhi': 0,\n",
       " 'air_temp': 4,\n",
       " 'zenith': 137,\n",
       " 'azimuth': -96,\n",
       " 'cloud_opacity': 76,\n",
       " 'period_end': datetime.datetime(2021, 7, 16, 17, 30, tzinfo=<isodate.tzinfo.Utc object at 0x0000020B1C1950A0>),\n",
       " 'period': datetime.timedelta(seconds=1800)}"
      ]
     },
     "metadata": {},
     "execution_count": 39
    }
   ],
   "source": [
    "response.forecasts[0]"
   ]
  },
  {
   "cell_type": "code",
   "execution_count": 57,
   "metadata": {},
   "outputs": [],
   "source": [
    "from datetime import datetime\n",
    "import pytz\n",
    "\n",
    "from pvlive_api import PVLive\n",
    "\n",
    "pvl = PVLive()"
   ]
  },
  {
   "cell_type": "code",
   "execution_count": 58,
   "metadata": {},
   "outputs": [
    {
     "output_type": "execute_result",
     "data": {
      "text/plain": [
       "(0, '2021-07-16T17:00:00Z', 3770.0)"
      ]
     },
     "metadata": {},
     "execution_count": 58
    }
   ],
   "source": [
    "pvl.latest()\t\n"
   ]
  },
  {
   "cell_type": "code",
   "execution_count": null,
   "metadata": {},
   "outputs": [],
   "source": []
  }
 ]
}