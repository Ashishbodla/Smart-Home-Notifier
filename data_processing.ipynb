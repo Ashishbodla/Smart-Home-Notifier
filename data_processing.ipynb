{
 "metadata": {
  "language_info": {
   "codemirror_mode": {
    "name": "ipython",
    "version": 3
   },
   "file_extension": ".py",
   "mimetype": "text/x-python",
   "name": "python",
   "nbconvert_exporter": "python",
   "pygments_lexer": "ipython3",
   "version": "3.8.5"
  },
  "orig_nbformat": 4,
  "kernelspec": {
   "name": "python3",
   "display_name": "Python 3.8.5 64-bit ('base': conda)"
  },
  "interpreter": {
   "hash": "e17ab7de6ad5b941c3e26db599003cfb1d7717d2aa44d1ece22b2d307495c290"
  }
 },
 "nbformat": 4,
 "nbformat_minor": 2,
 "cells": [
  {
   "cell_type": "code",
   "execution_count": 1,
   "metadata": {},
   "outputs": [],
   "source": [
    "import pandas as pd"
   ]
  },
  {
   "cell_type": "code",
   "execution_count": 2,
   "metadata": {},
   "outputs": [],
   "source": [
    "df_1 = pd.read_csv('data/PV_Live Historic Results.csv')"
   ]
  },
  {
   "cell_type": "code",
   "execution_count": 3,
   "metadata": {},
   "outputs": [
    {
     "output_type": "execute_result",
     "data": {
      "text/plain": [
       "   ggd_id          datetime_gmt  n_ggds  generation_mw  lcl_mw  ucl_mw  \\\n",
       "0       0  2021-06-30T03:30:00Z       1          0.025     0.0  0.0663   \n",
       "1       0  2021-06-30T03:00:00Z       1          0.946     0.0  2.4700   \n",
       "2       0  2021-06-30T02:30:00Z       1          0.839     0.0  2.1000   \n",
       "3       0  2021-06-30T02:00:00Z       1          1.600     0.0  4.1300   \n",
       "4       0  2021-06-30T01:30:00Z       1          0.359     0.0  0.9150   \n",
       "\n",
       "   installedcapacity_mwp  capacity_mwp  \n",
       "0                13080.0       12390.0  \n",
       "1                13080.0       12390.0  \n",
       "2                13080.0       12390.0  \n",
       "3                13080.0       12390.0  \n",
       "4                13080.0       12390.0  "
      ],
      "text/html": "<div>\n<style scoped>\n    .dataframe tbody tr th:only-of-type {\n        vertical-align: middle;\n    }\n\n    .dataframe tbody tr th {\n        vertical-align: top;\n    }\n\n    .dataframe thead th {\n        text-align: right;\n    }\n</style>\n<table border=\"1\" class=\"dataframe\">\n  <thead>\n    <tr style=\"text-align: right;\">\n      <th></th>\n      <th>ggd_id</th>\n      <th>datetime_gmt</th>\n      <th>n_ggds</th>\n      <th>generation_mw</th>\n      <th>lcl_mw</th>\n      <th>ucl_mw</th>\n      <th>installedcapacity_mwp</th>\n      <th>capacity_mwp</th>\n    </tr>\n  </thead>\n  <tbody>\n    <tr>\n      <th>0</th>\n      <td>0</td>\n      <td>2021-06-30T03:30:00Z</td>\n      <td>1</td>\n      <td>0.025</td>\n      <td>0.0</td>\n      <td>0.0663</td>\n      <td>13080.0</td>\n      <td>12390.0</td>\n    </tr>\n    <tr>\n      <th>1</th>\n      <td>0</td>\n      <td>2021-06-30T03:00:00Z</td>\n      <td>1</td>\n      <td>0.946</td>\n      <td>0.0</td>\n      <td>2.4700</td>\n      <td>13080.0</td>\n      <td>12390.0</td>\n    </tr>\n    <tr>\n      <th>2</th>\n      <td>0</td>\n      <td>2021-06-30T02:30:00Z</td>\n      <td>1</td>\n      <td>0.839</td>\n      <td>0.0</td>\n      <td>2.1000</td>\n      <td>13080.0</td>\n      <td>12390.0</td>\n    </tr>\n    <tr>\n      <th>3</th>\n      <td>0</td>\n      <td>2021-06-30T02:00:00Z</td>\n      <td>1</td>\n      <td>1.600</td>\n      <td>0.0</td>\n      <td>4.1300</td>\n      <td>13080.0</td>\n      <td>12390.0</td>\n    </tr>\n    <tr>\n      <th>4</th>\n      <td>0</td>\n      <td>2021-06-30T01:30:00Z</td>\n      <td>1</td>\n      <td>0.359</td>\n      <td>0.0</td>\n      <td>0.9150</td>\n      <td>13080.0</td>\n      <td>12390.0</td>\n    </tr>\n  </tbody>\n</table>\n</div>"
     },
     "metadata": {},
     "execution_count": 3
    }
   ],
   "source": [
    "df_1.head()"
   ]
  },
  {
   "cell_type": "code",
   "execution_count": 11,
   "metadata": {},
   "outputs": [
    {
     "output_type": "execute_result",
     "data": {
      "text/plain": [
       "Index(['ggd_id', 'datetime_gmt', 'n_ggds', 'generation_mw', 'lcl_mw', 'ucl_mw',\n",
       "       'installedcapacity_mwp', 'capacity_mwp'],\n",
       "      dtype='object')"
      ]
     },
     "metadata": {},
     "execution_count": 11
    }
   ],
   "source": [
    "df_1.columns"
   ]
  },
  {
   "cell_type": "code",
   "execution_count": 23,
   "metadata": {},
   "outputs": [
    {
     "output_type": "stream",
     "name": "stdout",
     "text": [
      " \nCount total NaN at each column in a DataFrame : \n\n ggd_id                      0\ndatetime_gmt                0\nn_ggds                      0\ngeneration_mw               0\nlcl_mw                   3912\nucl_mw                   3912\ninstalledcapacity_mwp       0\ncapacity_mwp                0\ndtype: int64\n"
     ]
    }
   ],
   "source": [
    "print(\" \\nCount total NaN at each column in a DataFrame : \\n\\n\", df_1.isnull().sum())"
   ]
  },
  {
   "cell_type": "code",
   "execution_count": 4,
   "metadata": {},
   "outputs": [],
   "source": [
    "df_2 = pd.read_csv('data/gridwatch.csv')"
   ]
  },
  {
   "cell_type": "code",
   "execution_count": 5,
   "metadata": {},
   "outputs": [
    {
     "output_type": "execute_result",
     "data": {
      "text/plain": [
       "   id             timestamp   demand   frequency   coal   nuclear   ccgt  \\\n",
       "0   4   2011-05-27 15:50:04    38874   50.132000   9316      8221  18239   \n",
       "1   5   2011-05-27 15:55:02    38845   50.091000   9294      8225  18158   \n",
       "2   6   2011-05-27 16:00:02    38745   50.034000   9270      8224  18110   \n",
       "3   7   2011-05-27 16:05:01    38826   49.990002   9262      8220  18114   \n",
       "4   8   2011-05-27 16:10:02    38865   50.016998   9256      8210  18107   \n",
       "\n",
       "    wind   pumped   hydro  ...   ocgt   french_ict   dutch_ict   irish_ict  \\\n",
       "0   1253      309     636  ...      0          912         0.0        -414   \n",
       "1   1304      332     633  ...      0          912         0.0        -414   \n",
       "2   1322      285     634  ...      0          912         0.0        -414   \n",
       "3   1364      287     635  ...      0          900         0.0        -414   \n",
       "4   1370      297     637  ...      0          900         0.0        -414   \n",
       "\n",
       "    ew_ict   nemo   other   north_south   scotland_england   ifa2  \n",
       "0      0.0      0       0             0                  0      0  \n",
       "1      0.0      0       0             0                  0      0  \n",
       "2      0.0      0       0             0                  0      0  \n",
       "3      0.0      0       0             0                  0      0  \n",
       "4      0.0      0       0             0                  0      0  \n",
       "\n",
       "[5 rows x 23 columns]"
      ],
      "text/html": "<div>\n<style scoped>\n    .dataframe tbody tr th:only-of-type {\n        vertical-align: middle;\n    }\n\n    .dataframe tbody tr th {\n        vertical-align: top;\n    }\n\n    .dataframe thead th {\n        text-align: right;\n    }\n</style>\n<table border=\"1\" class=\"dataframe\">\n  <thead>\n    <tr style=\"text-align: right;\">\n      <th></th>\n      <th>id</th>\n      <th>timestamp</th>\n      <th>demand</th>\n      <th>frequency</th>\n      <th>coal</th>\n      <th>nuclear</th>\n      <th>ccgt</th>\n      <th>wind</th>\n      <th>pumped</th>\n      <th>hydro</th>\n      <th>...</th>\n      <th>ocgt</th>\n      <th>french_ict</th>\n      <th>dutch_ict</th>\n      <th>irish_ict</th>\n      <th>ew_ict</th>\n      <th>nemo</th>\n      <th>other</th>\n      <th>north_south</th>\n      <th>scotland_england</th>\n      <th>ifa2</th>\n    </tr>\n  </thead>\n  <tbody>\n    <tr>\n      <th>0</th>\n      <td>4</td>\n      <td>2011-05-27 15:50:04</td>\n      <td>38874</td>\n      <td>50.132000</td>\n      <td>9316</td>\n      <td>8221</td>\n      <td>18239</td>\n      <td>1253</td>\n      <td>309</td>\n      <td>636</td>\n      <td>...</td>\n      <td>0</td>\n      <td>912</td>\n      <td>0.0</td>\n      <td>-414</td>\n      <td>0.0</td>\n      <td>0</td>\n      <td>0</td>\n      <td>0</td>\n      <td>0</td>\n      <td>0</td>\n    </tr>\n    <tr>\n      <th>1</th>\n      <td>5</td>\n      <td>2011-05-27 15:55:02</td>\n      <td>38845</td>\n      <td>50.091000</td>\n      <td>9294</td>\n      <td>8225</td>\n      <td>18158</td>\n      <td>1304</td>\n      <td>332</td>\n      <td>633</td>\n      <td>...</td>\n      <td>0</td>\n      <td>912</td>\n      <td>0.0</td>\n      <td>-414</td>\n      <td>0.0</td>\n      <td>0</td>\n      <td>0</td>\n      <td>0</td>\n      <td>0</td>\n      <td>0</td>\n    </tr>\n    <tr>\n      <th>2</th>\n      <td>6</td>\n      <td>2011-05-27 16:00:02</td>\n      <td>38745</td>\n      <td>50.034000</td>\n      <td>9270</td>\n      <td>8224</td>\n      <td>18110</td>\n      <td>1322</td>\n      <td>285</td>\n      <td>634</td>\n      <td>...</td>\n      <td>0</td>\n      <td>912</td>\n      <td>0.0</td>\n      <td>-414</td>\n      <td>0.0</td>\n      <td>0</td>\n      <td>0</td>\n      <td>0</td>\n      <td>0</td>\n      <td>0</td>\n    </tr>\n    <tr>\n      <th>3</th>\n      <td>7</td>\n      <td>2011-05-27 16:05:01</td>\n      <td>38826</td>\n      <td>49.990002</td>\n      <td>9262</td>\n      <td>8220</td>\n      <td>18114</td>\n      <td>1364</td>\n      <td>287</td>\n      <td>635</td>\n      <td>...</td>\n      <td>0</td>\n      <td>900</td>\n      <td>0.0</td>\n      <td>-414</td>\n      <td>0.0</td>\n      <td>0</td>\n      <td>0</td>\n      <td>0</td>\n      <td>0</td>\n      <td>0</td>\n    </tr>\n    <tr>\n      <th>4</th>\n      <td>8</td>\n      <td>2011-05-27 16:10:02</td>\n      <td>38865</td>\n      <td>50.016998</td>\n      <td>9256</td>\n      <td>8210</td>\n      <td>18107</td>\n      <td>1370</td>\n      <td>297</td>\n      <td>637</td>\n      <td>...</td>\n      <td>0</td>\n      <td>900</td>\n      <td>0.0</td>\n      <td>-414</td>\n      <td>0.0</td>\n      <td>0</td>\n      <td>0</td>\n      <td>0</td>\n      <td>0</td>\n      <td>0</td>\n    </tr>\n  </tbody>\n</table>\n<p>5 rows × 23 columns</p>\n</div>"
     },
     "metadata": {},
     "execution_count": 5
    }
   ],
   "source": [
    "df_2.head()"
   ]
  },
  {
   "cell_type": "code",
   "execution_count": 10,
   "metadata": {},
   "outputs": [
    {
     "output_type": "execute_result",
     "data": {
      "text/plain": [
       "Index(['id', ' timestamp', ' demand', ' frequency', ' coal', ' nuclear',\n",
       "       ' ccgt', ' wind', ' pumped', ' hydro', ' biomass', ' oil', ' solar',\n",
       "       ' ocgt', ' french_ict', ' dutch_ict', ' irish_ict', ' ew_ict', ' nemo',\n",
       "       ' other', ' north_south', ' scotland_england', ' ifa2'],\n",
       "      dtype='object')"
      ]
     },
     "metadata": {},
     "execution_count": 10
    }
   ],
   "source": [
    "df_2.columns"
   ]
  },
  {
   "cell_type": "code",
   "execution_count": 21,
   "metadata": {},
   "outputs": [
    {
     "output_type": "execute_result",
     "data": {
      "text/plain": [
       "id                     int64\n",
       " timestamp            object\n",
       " demand                int64\n",
       " frequency           float64\n",
       " coal                  int64\n",
       " nuclear               int64\n",
       " ccgt                  int64\n",
       " wind                  int64\n",
       " pumped                int64\n",
       " hydro                 int64\n",
       " biomass               int64\n",
       " oil                   int64\n",
       " solar               float64\n",
       " ocgt                  int64\n",
       " french_ict            int64\n",
       " dutch_ict           float64\n",
       " irish_ict             int64\n",
       " ew_ict              float64\n",
       " nemo                  int64\n",
       " other                 int64\n",
       " north_south           int64\n",
       " scotland_england      int64\n",
       " ifa2                  int64\n",
       "dtype: object"
      ]
     },
     "metadata": {},
     "execution_count": 21
    }
   ],
   "source": [
    "df_2.dtypes"
   ]
  },
  {
   "cell_type": "code",
   "execution_count": 22,
   "metadata": {},
   "outputs": [
    {
     "output_type": "stream",
     "name": "stdout",
     "text": [
      " \nCount total NaN at each column in a DataFrame : \n\n id                   0\n timestamp           0\n demand              0\n frequency           0\n coal                0\n nuclear             0\n ccgt                0\n wind                0\n pumped              0\n hydro               0\n biomass             0\n oil                 0\n solar               0\n ocgt                0\n french_ict          0\n dutch_ict           0\n irish_ict           0\n ew_ict              0\n nemo                0\n other               0\n north_south         0\n scotland_england    0\n ifa2                0\ndtype: int64\n"
     ]
    }
   ],
   "source": [
    "print(\" \\nCount total NaN at each column in a DataFrame : \\n\\n\", df_2.isnull().sum())"
   ]
  },
  {
   "cell_type": "code",
   "execution_count": null,
   "metadata": {},
   "outputs": [],
   "source": []
  }
 ]
}